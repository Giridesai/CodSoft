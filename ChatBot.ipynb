{
 "cells": [
  {
   "cell_type": "code",
   "execution_count": 1,
   "id": "5cc10366-c658-4452-9cb2-e7a2368c2043",
   "metadata": {},
   "outputs": [
    {
     "name": "stdout",
     "output_type": "stream",
     "text": [
      "Chatbot: Hi! I'm a simple chatbot,I'm here to assist you!\n"
     ]
    },
    {
     "name": "stdin",
     "output_type": "stream",
     "text": [
      "Me:  hello\n"
     ]
    },
    {
     "name": "stdout",
     "output_type": "stream",
     "text": [
      "Chatbot: Hello! How can I help you with the college admission process?\n"
     ]
    },
    {
     "name": "stdin",
     "output_type": "stream",
     "text": [
      "Me:  what is the admission process\n"
     ]
    },
    {
     "name": "stdout",
     "output_type": "stream",
     "text": [
      "Chatbot: The admission process includes filling out an online application form, submitting required documents, and attending a personal interview.\n"
     ]
    },
    {
     "name": "stdin",
     "output_type": "stream",
     "text": [
      "Me:  what is the attendance policy\n"
     ]
    },
    {
     "name": "stdout",
     "output_type": "stream",
     "text": [
      "Chatbot: We require a minimum of 75% attendance for all courses. Students with lower attendance may not be allowed to sit for exams.\n"
     ]
    },
    {
     "name": "stdin",
     "output_type": "stream",
     "text": [
      "Me:  bye\n"
     ]
    },
    {
     "name": "stdout",
     "output_type": "stream",
     "text": [
      "Chatbot: Goodbye! Have a great day!\n"
     ]
    }
   ],
   "source": [
    "data = {\n",
    "    \"hi\": \"Hi there! How can I assist you with your college admission inquiry today?\",\n",
    "    \"hello\": \"Hello! How can I help you with the college admission process?\",\n",
    "    \"what is your name\": \"I'm the College Admission Assistant, here to help you with all your queries.\",\n",
    "    \"where are you from\": \"I'm from the digital realm, designed to help you with college admissions.\",\n",
    "    \"how are you\": \"I'm great, thanks for asking! How can I assist you today?\",\n",
    "    \"what courses do you offer\": \"We offer a variety of undergraduate and postgraduate courses in Science, Commerce, Arts, Engineering, and more.\",\n",
    "    \"what is the admission process\": \"The admission process includes filling out an online application form, submitting required documents, and attending a personal interview.\",\n",
    "    \"what are the eligibility criteria for admission\": \"Eligibility criteria vary by course. Generally, a minimum of 50% in your 12th-grade exams is required for undergraduate courses.\",\n",
    "    \"what documents are required for admission\": \"You'll need your 10th and 12th-grade mark sheets, ID proof, passport-sized photographs, and any relevant certificates.\",\n",
    "    \"how do I apply for a course\": \"You can apply online through our college website by filling out the application form and submitting the necessary documents.\",\n",
    "    \"what is the last date to apply\": \"The last date to apply varies by course. Please check our website for the specific deadline.\",\n",
    "    \"what is the fee structure\": \"The fee structure varies by course. Undergraduate courses generally range from 50,000 to 1,50,000 INR per year.\",\n",
    "    \"do you offer scholarships\": \"Yes, we offer merit-based scholarships as well as need-based financial aid. You can apply for scholarships during the admission process.\",\n",
    "    \"how can I apply for a scholarship\": \"You can apply for scholarships through the online admission portal when you submit your application form.\",\n",
    "    \"is there an entrance exam\": \"Yes, some courses require an entrance exam. Please check the specific course details for more information.\",\n",
    "    \"what is the syllabus for the entrance exam\": \"The syllabus for the entrance exam usually includes subjects related to your chosen field of study. Detailed syllabi are available on our website.\",\n",
    "    \"how can I prepare for the entrance exam\": \"We recommend reviewing the syllabus thoroughly, practicing past papers, and taking mock tests.\",\n",
    "    \"what is the campus like\": \"Our campus is equipped with modern facilities, including state-of-the-art labs, libraries, and sports facilities.\",\n",
    "    \"do you offer hostel facilities\": \"Yes, we offer separate hostel facilities for male and female students, with all the necessary amenities.\",\n",
    "    \"how are the hostel rooms\": \"The hostel rooms are well-furnished, with options for single, double, and triple occupancy.\",\n",
    "    \"what is the hostel fee\": \"The hostel fee varies based on the type of room. It generally ranges from 50,000 to 1,00,000 INR per year.\",\n",
    "    \"what extracurricular activities are available\": \"We offer a wide range of extracurricular activities, including sports, cultural events, clubs, and societies.\",\n",
    "    \"is there a placement cell\": \"Yes, we have a dedicated placement cell that helps students with internships and job placements.\",\n",
    "    \"what is the placement record\": \"Our placement record is excellent, with top companies recruiting from our campus every year.\",\n",
    "    \"what companies visit for placements\": \"Companies like TCS, Infosys, Deloitte, and Wipro regularly visit our campus for recruitment.\",\n",
    "    \"what is the average package offered during placements\": \"The average package offered during placements is around 6-8 lakhs per annum, depending on the course and company.\",\n",
    "    \"can I visit the campus before applying\": \"Yes, you can book a campus tour through our website to get a feel of the environment and facilities.\",\n",
    "    \"how do I book a campus tour\": \"You can book a campus tour by filling out the request form on our website.\",\n",
    "    \"what are the campus timings\": \"The campus is open from 8 AM to 6 PM on weekdays and 9 AM to 4 PM on Saturdays.\",\n",
    "    \"are there any part-time courses\": \"Yes, we offer part-time courses for working professionals in various fields.\",\n",
    "    \"what is the duration of the courses\": \"Undergraduate courses are generally 3-4 years, while postgraduate courses are 2 years.\",\n",
    "    \"is there an alumni network\": \"Yes, we have a strong alumni network that actively participates in college events and helps with mentoring current students.\",\n",
    "    \"how can I contact the admission office\": \"You can contact the admission office via email at admissions@college.edu or call us at 123-456-7890.\",\n",
    "    \"what are the admission office hours\": \"The admission office is open from 9 AM to 5 PM, Monday to Friday.\",\n",
    "    \"can I apply for multiple courses\": \"Yes, you can apply for multiple courses, but you will need to submit a separate application for each.\",\n",
    "    \"is there a different fee for NRI students\": \"Yes, the fee structure for NRI students is different. Please check our website for more details.\",\n",
    "    \"how do I pay the application fee\": \"The application fee can be paid online through net banking, credit/debit card, or UPI.\",\n",
    "    \"what is the refund policy for fees\": \"Our refund policy varies depending on the stage of admission. Please refer to our website for detailed information.\",\n",
    "    \"what is the mode of instruction\": \"The mode of instruction is primarily in English, with some courses offering regional language options.\",\n",
    "    \"are there any language proficiency requirements\": \"For some courses, especially those in English, you may need to provide proof of language proficiency, such as TOEFL or IELTS scores.\",\n",
    "    \"can international students apply\": \"Yes, we welcome international students. Please check the specific admission requirements for international applicants on our website.\",\n",
    "    \"what support services are available for international students\": \"We offer dedicated support services for international students, including visa assistance, orientation programs, and cultural integration activities.\",\n",
    "    \"is there a student counseling center\": \"Yes, we have a student counseling center that provides mental health support and career counseling services.\",\n",
    "    \"how do I access the library\": \"Once you're enrolled, you'll receive a library card that gives you access to our extensive collection of books, journals, and online resources.\",\n",
    "    \"are there any student exchange programs\": \"Yes, we have partnerships with several international universities for student exchange programs.\",\n",
    "    \"how can I apply for a student exchange program\": \"You can apply for a student exchange program through the international office during your course.\",\n",
    "    \"is there a research facility\": \"Yes, we have well-equipped research labs and centers where students can pursue their research interests.\",\n",
    "    \"can I do an internship during my course\": \"Yes, internships are encouraged and are often part of the course curriculum. Our placement cell assists with finding suitable internships.\",\n",
    "    \"what is the dress code on campus\": \"There's no strict dress code, but we encourage students to dress modestly and appropriately for academic settings.\",\n",
    "    \"is there a cafeteria on campus\": \"Yes, we have a cafeteria that serves a variety of meals, snacks, and beverages at affordable prices.\",\n",
    "    \"do you have any sports facilities\": \"Yes, we have facilities for various sports, including cricket, football, basketball, and indoor games.\",\n",
    "    \"can I join a student club\": \"Yes, there are numerous student clubs on campus, ranging from academic and cultural to hobby-based clubs.\",\n",
    "    \"how do I join a student club\": \"You can join a student club by signing up during the club fair held at the beginning of the academic year.\",\n",
    "    \"what is the attendance policy\": \"We require a minimum of 75% attendance for all courses. Students with lower attendance may not be allowed to sit for exams.\",\n",
    "    \"how can I check my application status\": \"You can check your application status online by logging into your account on our admission portal.\",\n",
    "    \"is there any financial aid available\": \"Yes, we offer financial aid for students in need. You can apply for financial aid during the admission process.\",\n",
    "    \"what is the process for lateral entry\": \"For lateral entry into the second year of a course, you'll need to have completed a diploma or equivalent in a related field.\"\n",
    "}\n",
    "\n",
    "def get_response(user_input):\n",
    "    for pattern,response in data.items():\n",
    "        if pattern in user_input:\n",
    "            return response\n",
    "    return \"I'm sorry,I didn't understand that.Can you please rephrase your sentence?\"\n",
    "print(\"Chatbot: Hi! I'm a simple chatbot,I'm here to assist you!\")\n",
    "while True:\n",
    "    user_input=input(\"Me: \")\n",
    "    if user_input=='bye':\n",
    "       print(\"Chatbot: Goodbye! Have a great day!\")\n",
    "       break\n",
    "    response=get_response(user_input)\n",
    "    print(\"Chatbot:\",response)\n",
    "    "
   ]
  },
  {
   "cell_type": "code",
   "execution_count": null,
   "id": "ec67a886-38ab-4427-8fd9-8ede11434ab7",
   "metadata": {},
   "outputs": [],
   "source": []
  }
 ],
 "metadata": {
  "kernelspec": {
   "display_name": "Python 3 (ipykernel)",
   "language": "python",
   "name": "python3"
  },
  "language_info": {
   "codemirror_mode": {
    "name": "ipython",
    "version": 3
   },
   "file_extension": ".py",
   "mimetype": "text/x-python",
   "name": "python",
   "nbconvert_exporter": "python",
   "pygments_lexer": "ipython3",
   "version": "3.12.4"
  }
 },
 "nbformat": 4,
 "nbformat_minor": 5
}
